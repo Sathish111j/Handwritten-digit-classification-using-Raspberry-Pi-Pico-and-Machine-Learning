{
 "cells": [
  {
   "cell_type": "markdown",
   "id": "31fca617",
   "metadata": {},
   "source": [
    "\n",
    "# Handwritten Digit Classification\n",
    "This notebook demonstrates the process of using machine learning to classify handwritten digits. We will use the popular scikit-learn library to load a dataset, preprocess the data, train a model, and evaluate its performance.\n",
    "\n",
    "## Overview\n",
    "1. **Import Libraries**: Necessary libraries and modules are imported.\n",
    "2. **Load Dataset**: The dataset of handwritten digits is loaded.\n",
    "3. **Data Preprocessing**: Images are processed and prepared for the model.\n",
    "4. **Model Training and Evaluation**: A machine learning model is trained and evaluated.\n",
    "\n"
   ]
  },
  {
   "cell_type": "markdown",
   "id": "c6102bde",
   "metadata": {},
   "source": [
    "### Import Libraries\n",
    "First, we import all the necessary libraries. `matplotlib` is used for data visualization, and various modules from `sklearn` are used for machine learning tasks."
   ]
  },
  {
   "cell_type": "code",
   "execution_count": 15,
   "metadata": {
    "id": "9Ssp0fEd5r_d"
   },
   "outputs": [],
   "source": [
    "# Import necessary libraries such as matplotlib for plotting and sklearn for machine learning tasks. This sets up our environment for data handling and visualization.\n",
    "# Import necessary libraries for data handling and visualization.\n",
    "import matplotlib.pyplot as plt\n",
    "from sklearn import datasets, svm, metrics, ensemble,tree,linear_model\n",
    "from sklearn.model_selection import train_test_split\n",
    "import numpy as np\n",
    "import cv2"
   ]
  },
  {
   "cell_type": "markdown",
   "id": "06db86d6",
   "metadata": {},
   "source": [
    "### Load the Dataset\n",
    "Here, we load the dataset of handwritten digits from `sklearn`. This dataset is widely used for training and testing in the field of machine learning for image classification."
   ]
  },
  {
   "cell_type": "code",
   "execution_count": 16,
   "metadata": {
    "id": "k4Q3EP5T5u-a"
   },
   "outputs": [],
   "source": [
    "# Load the dataset of handwritten digits from sklearn. This dataset contains images of handwritten digits along with their corresponding labels, and is commonly used for training and testing image classification models.\n",
    "# Load the dataset of handwritten digits.\n",
    "data = datasets.load_digits()"
   ]
  },
  {
   "cell_type": "markdown",
   "id": "bb420abe",
   "metadata": {},
   "source": [
    "### Image Data Processing\n",
    "This cell processes the image data to ensure it's in the right format for our analysis, which is a crucial step in preparing the data for machine learning models."
   ]
  },
  {
   "cell_type": "code",
   "execution_count": 17,
   "metadata": {
    "id": "3i9jZ_Ly5wTs"
   },
   "outputs": [],
   "source": [
    "# Process the image data to ensure it's in the right format for analysis. Image processing is crucial as it transforms raw data into a suitable format for machine learning models.\n",
    "# Process the image data for analysis.\n",
    "image_ds  = []\n",
    "for img in data.images:\n",
    "    res = cv2.resize(img, dsize=(12, 12))\n",
    "    res = res/16\n",
    "    image_ds.append(res)"
   ]
  },
  {
   "cell_type": "markdown",
   "id": "d01cc445",
   "metadata": {},
   "source": [
    "### Display an Example Image\n",
    "To understand the data better, we display an example image from the dataset. This helps us visually verify the nature of the handwritten digits we are working with."
   ]
  },
  {
   "cell_type": "code",
   "execution_count": 18,
   "metadata": {
    "colab": {
     "base_uri": "https://localhost:8080/",
     "height": 447
    },
    "id": "ZJOsCDpy5xQJ",
    "outputId": "5c37ca69-c223-421e-f59f-06d36dc1d026"
   },
   "outputs": [
    {
     "data": {
      "text/plain": [
       "<matplotlib.image.AxesImage at 0x793e89893880>"
      ]
     },
     "execution_count": 18,
     "metadata": {},
     "output_type": "execute_result"
    },
    {
     "data": {
      "image/png": "[encoded data removed]",
      "text/plain": [
       "<Figure size 640x480 with 1 Axes>"
      ]
     },
     "metadata": {},
     "output_type": "display_data"
    }
   ],
   "source": [
    "# Display an example digit image from the dataset. Visualizing the data helps in understanding the kind of images we are dealing with and the complexity of the classification task.\n",
    "# Display an example digit image from the dataset.\n",
    "plt.imshow((image_ds[78]),cmap='gray')"
   ]
  },
  {
   "cell_type": "markdown",
   "id": "3f2678f9",
   "metadata": {},
   "source": [
    "### Data Preprocessing for Model Input\n",
    "In this step, we convert the image data into a flattened array, which is a required format for feeding the data into most machine learning models."
   ]
  },
  {
   "cell_type": "code",
   "execution_count": 19,
   "metadata": {
    "id": "sRxmN77B540h"
   },
   "outputs": [],
   "source": [
    "# Convert image data to a flat array to prepare it for input into the machine learning model. Flattening the image data is a common preprocessing step before feeding it into a classification algorithm.\n",
    "# Convert image data to a flat array and prepare for model input.\n",
    "img_data = np.asarray(image_ds)\n",
    "flattened_data = img_data.reshape((len(image_ds), -1))\n",
    "X_train, X_test, y_train, y_test = train_test_split(\n",
    "    flattened_data, data.target, test_size=0.4, shuffle=False\n",
    ")\n"
   ]
  },
  {
   "cell_type": "markdown",
   "id": "4d5ef9d2",
   "metadata": {},
   "source": [
    "### Importing Machine Learning Model\n",
    "We import `LinearSVC` from `sklearn` for the classification task and other necessary tools for splitting the data into training and test sets."
   ]
  },
  {
   "cell_type": "code",
   "execution_count": 21,
   "metadata": {
    "colab": {
     "base_uri": "https://localhost:8080/"
    },
    "id": "70ns44OC7Ri6",
    "outputId": "117ce9af-ae20-4e8a-d2ea-ad358ac28359"
   },
   "outputs": [
    {
     "name": "stdout",
     "output_type": "stream",
     "text": [
      "Fitting 5 folds for each of 45 candidates, totalling 225 fits\n",
      "[CV 1/5] END .C=0.01, max_iter=1000, tol=0.0001;, score=0.880 total time=   0.0s\n",
      "[CV 2/5] END .C=0.01, max_iter=1000, tol=0.0001;, score=0.958 total time=   0.0s\n",
      "[CV 3/5] END .C=0.01, max_iter=1000, tol=0.0001;, score=0.903 total time=   0.0s\n",
      "[CV 4/5] END .C=0.01, max_iter=1000, tol=0.0001;, score=0.884 total time=   0.0s\n",
      "[CV 5/5] END .C=0.01, max_iter=1000, tol=0.0001;, score=0.944 total time=   0.0s\n",
      "[CV 1/5] END ..C=0.01, max_iter=1000, tol=0.001;, score=0.880 total time=   0.0s\n",
      "[CV 2/5] END ..C=0.01, max_iter=1000, tol=0.001;, score=0.958 total time=   0.0s\n",
      "[CV 3/5] END ..C=0.01, max_iter=1000, tol=0.001;, score=0.903 total time=   0.0s\n",
      "[CV 4/5] END ..C=0.01, max_iter=1000, tol=0.001;, score=0.884 total time=   0.0s\n",
      "[CV 5/5] END ..C=0.01, max_iter=1000, tol=0.001;, score=0.944 total time=   0.0s\n",
      "[CV 1/5] END ...C=0.01, max_iter=1000, tol=0.01;, score=0.880 total time=   0.0s\n",
      "[CV 2/5] END ...C=0.01, max_iter=1000, tol=0.01;, score=0.958 total time=   0.0s\n",
      "[CV 3/5] END ...C=0.01, max_iter=1000, tol=0.01;, score=0.903 total time=   0.0s\n",
      "[CV 4/5] END ...C=0.01, max_iter=1000, tol=0.01;, score=0.884 total time=   0.0s\n",
      "[CV 5/5] END ...C=0.01, max_iter=1000, tol=0.01;, score=0.944 total time=   0.0s\n",
      "[CV 1/5] END .C=0.01, max_iter=5000, tol=0.0001;, score=0.880 total time=   0.0s\n",
      "[CV 2/5] END .C=0.01, max_iter=5000, tol=0.0001;, score=0.958 total time=   0.1s\n",
      "[CV 3/5] END .C=0.01, max_iter=5000, tol=0.0001;, score=0.903 total time=   0.0s\n",
      "[CV 4/5] END .C=0.01, max_iter=5000, tol=0.0001;, score=0.884 total time=   0.0s\n",
      "[CV 5/5] END .C=0.01, max_iter=5000, tol=0.0001;, score=0.944 total time=   0.0s\n",
      "[CV 1/5] END ..C=0.01, max_iter=5000, tol=0.001;, score=0.880 total time=   0.0s\n",
      "[CV 2/5] END ..C=0.01, max_iter=5000, tol=0.001;, score=0.958 total time=   0.0s\n",
      "[CV 3/5] END ..C=0.01, max_iter=5000, tol=0.001;, score=0.903 total time=   0.0s\n",
      "[CV 4/5] END ..C=0.01, max_iter=5000, tol=0.001;, score=0.884 total time=   0.0s\n",
      "[CV 5/5] END ..C=0.01, max_iter=5000, tol=0.001;, score=0.944 total time=   0.0s\n",
      "[CV 1/5] END ...C=0.01, max_iter=5000, tol=0.01;, score=0.880 total time=   0.0s\n",
      "[CV 2/5] END ...C=0.01, max_iter=5000, tol=0.01;, score=0.958 total time=   0.0s\n",
      "[CV 3/5] END ...C=0.01, max_iter=5000, tol=0.01;, score=0.903 total time=   0.0s\n",
      "[CV 4/5] END ...C=0.01, max_iter=5000, tol=0.01;, score=0.884 total time=   0.0s\n",
      "[CV 5/5] END ...C=0.01, max_iter=5000, tol=0.01;, score=0.944 total time=   0.0s\n",
      "[CV 1/5] END C=0.01, max_iter=10000, tol=0.0001;, score=0.880 total time=   0.0s\n",
      "[CV 2/5] END C=0.01, max_iter=10000, tol=0.0001;, score=0.958 total time=   0.0s\n",
      "[CV 3/5] END C=0.01, max_iter=10000, tol=0.0001;, score=0.903 total time=   0.0s\n",
      "[CV 4/5] END C=0.01, max_iter=10000, tol=0.0001;, score=0.884 total time=   0.0s\n",
      "[CV 5/5] END C=0.01, max_iter=10000, tol=0.0001;, score=0.944 total time=   0.0s\n",
      "[CV 1/5] END .C=0.01, max_iter=10000, tol=0.001;, score=0.880 total time=   0.0s\n",
      "[CV 2/5] END .C=0.01, max_iter=10000, tol=0.001;, score=0.958 total time=   0.0s\n",
      "[CV 3/5] END .C=0.01, max_iter=10000, tol=0.001;, score=0.903 total time=   0.0s\n",
      "[CV 4/5] END .C=0.01, max_iter=10000, tol=0.001;, score=0.884 total time=   0.0s\n",
      "[CV 5/5] END .C=0.01, max_iter=10000, tol=0.001;, score=0.944 total time=   0.0s\n",
      "[CV 1/5] END ..C=0.01, max_iter=10000, tol=0.01;, score=0.880 total time=   0.0s\n",
      "[CV 2/5] END ..C=0.01, max_iter=10000, tol=0.01;, score=0.958 total time=   0.0s\n",
      "[CV 3/5] END ..C=0.01, max_iter=10000, tol=0.01;, score=0.903 total time=   0.0s\n",
      "[CV 4/5] END ..C=0.01, max_iter=10000, tol=0.01;, score=0.884 total time=   0.0s\n",
      "[CV 5/5] END ..C=0.01, max_iter=10000, tol=0.01;, score=0.944 total time=   0.1s\n",
      "[CV 1/5] END ..C=0.1, max_iter=1000, tol=0.0001;, score=0.884 total time=   0.1s\n",
      "[CV 2/5] END ..C=0.1, max_iter=1000, tol=0.0001;, score=0.963 total time=   0.1s\n",
      "[CV 3/5] END ..C=0.1, max_iter=1000, tol=0.0001;, score=0.926 total time=   0.1s\n",
      "[CV 4/5] END ..C=0.1, max_iter=1000, tol=0.0001;, score=0.907 total time=   0.1s\n",
      "[CV 5/5] END ..C=0.1, max_iter=1000, tol=0.0001;, score=0.963 total time=   0.1s\n",
      "[CV 1/5] END ...C=0.1, max_iter=1000, tol=0.001;, score=0.884 total time=   0.1s\n",
      "[CV 2/5] END ...C=0.1, max_iter=1000, tol=0.001;, score=0.963 total time=   0.1s\n",
      "[CV 3/5] END ...C=0.1, max_iter=1000, tol=0.001;, score=0.926 total time=   0.1s\n",
      "[CV 4/5] END ...C=0.1, max_iter=1000, tol=0.001;, score=0.907 total time=   0.1s\n",
      "[CV 5/5] END ...C=0.1, max_iter=1000, tol=0.001;, score=0.963 total time=   0.1s\n",
      "[CV 1/5] END ....C=0.1, max_iter=1000, tol=0.01;, score=0.884 total time=   0.1s\n",
      "[CV 2/5] END ....C=0.1, max_iter=1000, tol=0.01;, score=0.963 total time=   0.1s\n",
      "[CV 3/5] END ....C=0.1, max_iter=1000, tol=0.01;, score=0.926 total time=   0.1s\n",
      "[CV 4/5] END ....C=0.1, max_iter=1000, tol=0.01;, score=0.907 total time=   0.1s\n",
      "[CV 5/5] END ....C=0.1, max_iter=1000, tol=0.01;, score=0.963 total time=   0.1s\n",
      "[CV 1/5] END ..C=0.1, max_iter=5000, tol=0.0001;, score=0.884 total time=   0.1s\n",
      "[CV 2/5] END ..C=0.1, max_iter=5000, tol=0.0001;, score=0.963 total time=   0.1s\n",
      "[CV 3/5] END ..C=0.1, max_iter=5000, tol=0.0001;, score=0.926 total time=   0.1s\n",
      "[CV 4/5] END ..C=0.1, max_iter=5000, tol=0.0001;, score=0.907 total time=   0.1s\n",
      "[CV 5/5] END ..C=0.1, max_iter=5000, tol=0.0001;, score=0.963 total time=   0.1s\n",
      "[CV 1/5] END ...C=0.1, max_iter=5000, tol=0.001;, score=0.884 total time=   0.1s\n",
      "[CV 2/5] END ...C=0.1, max_iter=5000, tol=0.001;, score=0.963 total time=   0.1s\n",
      "[CV 3/5] END ...C=0.1, max_iter=5000, tol=0.001;, score=0.926 total time=   0.1s\n",
      "[CV 4/5] END ...C=0.1, max_iter=5000, tol=0.001;, score=0.907 total time=   0.1s\n",
      "[CV 5/5] END ...C=0.1, max_iter=5000, tol=0.001;, score=0.963 total time=   0.1s\n",
      "[CV 1/5] END ....C=0.1, max_iter=5000, tol=0.01;, score=0.884 total time=   0.0s\n",
      "[CV 2/5] END ....C=0.1, max_iter=5000, tol=0.01;, score=0.963 total time=   0.1s\n",
      "[CV 3/5] END ....C=0.1, max_iter=5000, tol=0.01;, score=0.926 total time=   0.1s\n",
      "[CV 4/5] END ....C=0.1, max_iter=5000, tol=0.01;, score=0.907 total time=   0.1s\n",
      "[CV 5/5] END ....C=0.1, max_iter=5000, tol=0.01;, score=0.963 total time=   0.1s\n",
      "[CV 1/5] END .C=0.1, max_iter=10000, tol=0.0001;, score=0.884 total time=   0.1s\n",
      "[CV 2/5] END .C=0.1, max_iter=10000, tol=0.0001;, score=0.963 total time=   0.1s\n",
      "[CV 3/5] END .C=0.1, max_iter=10000, tol=0.0001;, score=0.926 total time=   0.1s\n",
      "[CV 4/5] END .C=0.1, max_iter=10000, tol=0.0001;, score=0.907 total time=   0.1s\n",
      "[CV 5/5] END .C=0.1, max_iter=10000, tol=0.0001;, score=0.963 total time=   0.1s\n",
      "[CV 1/5] END ..C=0.1, max_iter=10000, tol=0.001;, score=0.884 total time=   0.1s\n",
      "[CV 2/5] END ..C=0.1, max_iter=10000, tol=0.001;, score=0.963 total time=   0.1s\n",
      "[CV 3/5] END ..C=0.1, max_iter=10000, tol=0.001;, score=0.926 total time=   0.1s\n",
      "[CV 4/5] END ..C=0.1, max_iter=10000, tol=0.001;, score=0.907 total time=   0.1s\n",
      "[CV 5/5] END ..C=0.1, max_iter=10000, tol=0.001;, score=0.963 total time=   0.1s\n",
      "[CV 1/5] END ...C=0.1, max_iter=10000, tol=0.01;, score=0.884 total time=   0.0s\n",
      "[CV 2/5] END ...C=0.1, max_iter=10000, tol=0.01;, score=0.963 total time=   0.0s\n",
      "[CV 3/5] END ...C=0.1, max_iter=10000, tol=0.01;, score=0.926 total time=   0.1s\n",
      "[CV 4/5] END ...C=0.1, max_iter=10000, tol=0.01;, score=0.907 total time=   0.0s\n",
      "[CV 5/5] END ...C=0.1, max_iter=10000, tol=0.01;, score=0.963 total time=   0.0s\n",
      "[CV 1/5] END ....C=1, max_iter=1000, tol=0.0001;, score=0.903 total time=   0.2s\n",
      "[CV 2/5] END ....C=1, max_iter=1000, tol=0.0001;, score=0.958 total time=   0.2s\n",
      "[CV 3/5] END ....C=1, max_iter=1000, tol=0.0001;, score=0.921 total time=   0.2s\n",
      "[CV 4/5] END ....C=1, max_iter=1000, tol=0.0001;, score=0.926 total time=   0.2s\n",
      "[CV 5/5] END ....C=1, max_iter=1000, tol=0.0001;, score=0.972 total time=   0.2s\n",
      "[CV 1/5] END .....C=1, max_iter=1000, tol=0.001;, score=0.903 total time=   0.2s\n",
      "[CV 2/5] END .....C=1, max_iter=1000, tol=0.001;, score=0.958 total time=   0.2s\n",
      "[CV 3/5] END .....C=1, max_iter=1000, tol=0.001;, score=0.921 total time=   0.2s\n",
      "[CV 4/5] END .....C=1, max_iter=1000, tol=0.001;, score=0.926 total time=   0.2s\n",
      "[CV 5/5] END .....C=1, max_iter=1000, tol=0.001;, score=0.972 total time=   0.2s\n",
      "[CV 1/5] END ......C=1, max_iter=1000, tol=0.01;, score=0.903 total time=   0.1s\n",
      "[CV 2/5] END ......C=1, max_iter=1000, tol=0.01;, score=0.958 total time=   0.1s\n",
      "[CV 3/5] END ......C=1, max_iter=1000, tol=0.01;, score=0.921 total time=   0.1s\n",
      "[CV 4/5] END ......C=1, max_iter=1000, tol=0.01;, score=0.926 total time=   0.1s\n",
      "[CV 5/5] END ......C=1, max_iter=1000, tol=0.01;, score=0.972 total time=   0.2s\n",
      "[CV 1/5] END ....C=1, max_iter=5000, tol=0.0001;, score=0.903 total time=   0.2s\n",
      "[CV 2/5] END ....C=1, max_iter=5000, tol=0.0001;, score=0.958 total time=   0.2s\n",
      "[CV 3/5] END ....C=1, max_iter=5000, tol=0.0001;, score=0.921 total time=   0.2s\n",
      "[CV 4/5] END ....C=1, max_iter=5000, tol=0.0001;, score=0.926 total time=   0.2s\n",
      "[CV 5/5] END ....C=1, max_iter=5000, tol=0.0001;, score=0.972 total time=   0.2s\n",
      "[CV 1/5] END .....C=1, max_iter=5000, tol=0.001;, score=0.903 total time=   0.2s\n",
      "[CV 2/5] END .....C=1, max_iter=5000, tol=0.001;, score=0.958 total time=   0.2s\n",
      "[CV 3/5] END .....C=1, max_iter=5000, tol=0.001;, score=0.921 total time=   0.2s\n",
      "[CV 4/5] END .....C=1, max_iter=5000, tol=0.001;, score=0.926 total time=   0.2s\n",
      "[CV 5/5] END .....C=1, max_iter=5000, tol=0.001;, score=0.972 total time=   0.4s\n",
      "[CV 1/5] END ......C=1, max_iter=5000, tol=0.01;, score=0.903 total time=   0.2s\n",
      "[CV 2/5] END ......C=1, max_iter=5000, tol=0.01;, score=0.958 total time=   0.2s\n",
      "[CV 3/5] END ......C=1, max_iter=5000, tol=0.01;, score=0.921 total time=   0.2s\n",
      "[CV 4/5] END ......C=1, max_iter=5000, tol=0.01;, score=0.926 total time=   0.2s\n",
      "[CV 5/5] END ......C=1, max_iter=5000, tol=0.01;, score=0.972 total time=   0.2s\n",
      "[CV 1/5] END ...C=1, max_iter=10000, tol=0.0001;, score=0.903 total time=   0.3s\n",
      "[CV 2/5] END ...C=1, max_iter=10000, tol=0.0001;, score=0.958 total time=   0.3s\n",
      "[CV 3/5] END ...C=1, max_iter=10000, tol=0.0001;, score=0.921 total time=   0.3s\n",
      "[CV 4/5] END ...C=1, max_iter=10000, tol=0.0001;, score=0.926 total time=   0.3s\n",
      "[CV 5/5] END ...C=1, max_iter=10000, tol=0.0001;, score=0.972 total time=   0.3s\n",
      "[CV 1/5] END ....C=1, max_iter=10000, tol=0.001;, score=0.903 total time=   0.2s\n",
      "[CV 2/5] END ....C=1, max_iter=10000, tol=0.001;, score=0.958 total time=   0.3s\n",
      "[CV 3/5] END ....C=1, max_iter=10000, tol=0.001;, score=0.921 total time=   0.2s\n",
      "[CV 4/5] END ....C=1, max_iter=10000, tol=0.001;, score=0.926 total time=   0.3s\n",
      "[CV 5/5] END ....C=1, max_iter=10000, tol=0.001;, score=0.972 total time=   0.2s\n",
      "[CV 1/5] END .....C=1, max_iter=10000, tol=0.01;, score=0.903 total time=   0.2s\n",
      "[CV 2/5] END .....C=1, max_iter=10000, tol=0.01;, score=0.958 total time=   0.2s\n",
      "[CV 3/5] END .....C=1, max_iter=10000, tol=0.01;, score=0.921 total time=   0.2s\n",
      "[CV 4/5] END .....C=1, max_iter=10000, tol=0.01;, score=0.926 total time=   0.2s\n",
      "[CV 5/5] END .....C=1, max_iter=10000, tol=0.01;, score=0.972 total time=   0.2s\n"
     ]
    },
    {
     "name": "stderr",
     "output_type": "stream",
     "text": [
      "/usr/local/lib/python3.10/dist-packages/sklearn/svm/_base.py:1244: ConvergenceWarning: Liblinear failed to converge, increase the number of iterations.\n",
      "  warnings.warn(\n"
     ]
    },
    {
     "name": "stdout",
     "output_type": "stream",
     "text": [
      "[CV 1/5] END ...C=10, max_iter=1000, tol=0.0001;, score=0.903 total time=   0.3s\n"
     ]
    },
    {
     "name": "stderr",
     "output_type": "stream",
     "text": [
      "/usr/local/lib/python3.10/dist-packages/sklearn/svm/_base.py:1244: ConvergenceWarning: Liblinear failed to converge, increase the number of iterations.\n",
      "  warnings.warn(\n"
     ]
    },
    {
     "name": "stdout",
     "output_type": "stream",
     "text": [
      "[CV 2/5] END ...C=10, max_iter=1000, tol=0.0001;, score=0.949 total time=   0.3s\n"
     ]
    },
    {
     "name": "stderr",
     "output_type": "stream",
     "text": [
      "/usr/local/lib/python3.10/dist-packages/sklearn/svm/_base.py:1244: ConvergenceWarning: Liblinear failed to converge, increase the number of iterations.\n",
      "  warnings.warn(\n"
     ]
    },
    {
     "name": "stdout",
     "output_type": "stream",
     "text": [
      "[CV 3/5] END ...C=10, max_iter=1000, tol=0.0001;, score=0.921 total time=   0.2s\n"
     ]
    },
    {
     "name": "stderr",
     "output_type": "stream",
     "text": [
      "/usr/local/lib/python3.10/dist-packages/sklearn/svm/_base.py:1244: ConvergenceWarning: Liblinear failed to converge, increase the number of iterations.\n",
      "  warnings.warn(\n"
     ]
    },
    {
     "name": "stdout",
     "output_type": "stream",
     "text": [
      "[CV 4/5] END ...C=10, max_iter=1000, tol=0.0001;, score=0.912 total time=   0.2s\n"
     ]
    },
    {
     "name": "stderr",
     "output_type": "stream",
     "text": [
      "/usr/local/lib/python3.10/dist-packages/sklearn/svm/_base.py:1244: ConvergenceWarning: Liblinear failed to converge, increase the number of iterations.\n",
      "  warnings.warn(\n"
     ]
    },
    {
     "name": "stdout",
     "output_type": "stream",
     "text": [
      "[CV 5/5] END ...C=10, max_iter=1000, tol=0.0001;, score=0.963 total time=   0.3s\n"
     ]
    },
    {
     "name": "stderr",
     "output_type": "stream",
     "text": [
      "/usr/local/lib/python3.10/dist-packages/sklearn/svm/_base.py:1244: ConvergenceWarning: Liblinear failed to converge, increase the number of iterations.\n",
      "  warnings.warn(\n"
     ]
    },
    {
     "name": "stdout",
     "output_type": "stream",
     "text": [
      "[CV 1/5] END ....C=10, max_iter=1000, tol=0.001;, score=0.903 total time=   0.2s\n"
     ]
    },
    {
     "name": "stderr",
     "output_type": "stream",
     "text": [
      "/usr/local/lib/python3.10/dist-packages/sklearn/svm/_base.py:1244: ConvergenceWarning: Liblinear failed to converge, increase the number of iterations.\n",
      "  warnings.warn(\n"
     ]
    },
    {
     "name": "stdout",
     "output_type": "stream",
     "text": [
      "[CV 2/5] END ....C=10, max_iter=1000, tol=0.001;, score=0.949 total time=   0.2s\n",
      "[CV 3/5] END ....C=10, max_iter=1000, tol=0.001;, score=0.921 total time=   0.2s\n"
     ]
    },
    {
     "name": "stderr",
     "output_type": "stream",
     "text": [
      "/usr/local/lib/python3.10/dist-packages/sklearn/svm/_base.py:1244: ConvergenceWarning: Liblinear failed to converge, increase the number of iterations.\n",
      "  warnings.warn(\n",
      "/usr/local/lib/python3.10/dist-packages/sklearn/svm/_base.py:1244: ConvergenceWarning: Liblinear failed to converge, increase the number of iterations.\n",
      "  warnings.warn(\n"
     ]
    },
    {
     "name": "stdout",
     "output_type": "stream",
     "text": [
      "[CV 4/5] END ....C=10, max_iter=1000, tol=0.001;, score=0.912 total time=   0.3s\n"
     ]
    },
    {
     "name": "stderr",
     "output_type": "stream",
     "text": [
      "/usr/local/lib/python3.10/dist-packages/sklearn/svm/_base.py:1244: ConvergenceWarning: Liblinear failed to converge, increase the number of iterations.\n",
      "  warnings.warn(\n"
     ]
    },
    {
     "name": "stdout",
     "output_type": "stream",
     "text": [
      "[CV 5/5] END ....C=10, max_iter=1000, tol=0.001;, score=0.963 total time=   0.3s\n"
     ]
    },
    {
     "name": "stderr",
     "output_type": "stream",
     "text": [
      "/usr/local/lib/python3.10/dist-packages/sklearn/svm/_base.py:1244: ConvergenceWarning: Liblinear failed to converge, increase the number of iterations.\n",
      "  warnings.warn(\n"
     ]
    },
    {
     "name": "stdout",
     "output_type": "stream",
     "text": [
      "[CV 1/5] END .....C=10, max_iter=1000, tol=0.01;, score=0.903 total time=   0.2s\n"
     ]
    },
    {
     "name": "stderr",
     "output_type": "stream",
     "text": [
      "/usr/local/lib/python3.10/dist-packages/sklearn/svm/_base.py:1244: ConvergenceWarning: Liblinear failed to converge, increase the number of iterations.\n",
      "  warnings.warn(\n"
     ]
    },
    {
     "name": "stdout",
     "output_type": "stream",
     "text": [
      "[CV 2/5] END .....C=10, max_iter=1000, tol=0.01;, score=0.949 total time=   0.3s\n"
     ]
    },
    {
     "name": "stderr",
     "output_type": "stream",
     "text": [
      "/usr/local/lib/python3.10/dist-packages/sklearn/svm/_base.py:1244: ConvergenceWarning: Liblinear failed to converge, increase the number of iterations.\n",
      "  warnings.warn(\n"
     ]
    },
    {
     "name": "stdout",
     "output_type": "stream",
     "text": [
      "[CV 3/5] END .....C=10, max_iter=1000, tol=0.01;, score=0.921 total time=   0.3s\n"
     ]
    },
    {
     "name": "stderr",
     "output_type": "stream",
     "text": [
      "/usr/local/lib/python3.10/dist-packages/sklearn/svm/_base.py:1244: ConvergenceWarning: Liblinear failed to converge, increase the number of iterations.\n",
      "  warnings.warn(\n"
     ]
    },
    {
     "name": "stdout",
     "output_type": "stream",
     "text": [
      "[CV 4/5] END .....C=10, max_iter=1000, tol=0.01;, score=0.907 total time=   0.2s\n"
     ]
    },
    {
     "name": "stderr",
     "output_type": "stream",
     "text": [
      "/usr/local/lib/python3.10/dist-packages/sklearn/svm/_base.py:1244: ConvergenceWarning: Liblinear failed to converge, increase the number of iterations.\n",
      "  warnings.warn(\n"
     ]
    },
    {
     "name": "stdout",
     "output_type": "stream",
     "text": [
      "[CV 5/5] END .....C=10, max_iter=1000, tol=0.01;, score=0.967 total time=   0.4s\n"
     ]
    },
    {
     "name": "stderr",
     "output_type": "stream",
     "text": [
      "/usr/local/lib/python3.10/dist-packages/sklearn/svm/_base.py:1244: ConvergenceWarning: Liblinear failed to converge, increase the number of iterations.\n",
      "  warnings.warn(\n"
     ]
    },
    {
     "name": "stdout",
     "output_type": "stream",
     "text": [
      "[CV 1/5] END ...C=10, max_iter=5000, tol=0.0001;, score=0.903 total time=   0.8s\n"
     ]
    },
    {
     "name": "stderr",
     "output_type": "stream",
     "text": [
      "/usr/local/lib/python3.10/dist-packages/sklearn/svm/_base.py:1244: ConvergenceWarning: Liblinear failed to converge, increase the number of iterations.\n",
      "  warnings.warn(\n"
     ]
    },
    {
     "name": "stdout",
     "output_type": "stream",
     "text": [
      "[CV 2/5] END ...C=10, max_iter=5000, tol=0.0001;, score=0.949 total time=   0.8s\n"
     ]
    },
    {
     "name": "stderr",
     "output_type": "stream",
     "text": [
      "/usr/local/lib/python3.10/dist-packages/sklearn/svm/_base.py:1244: ConvergenceWarning: Liblinear failed to converge, increase the number of iterations.\n",
      "  warnings.warn(\n"
     ]
    },
    {
     "name": "stdout",
     "output_type": "stream",
     "text": [
      "[CV 3/5] END ...C=10, max_iter=5000, tol=0.0001;, score=0.921 total time=   0.8s\n"
     ]
    },
    {
     "name": "stderr",
     "output_type": "stream",
     "text": [
      "/usr/local/lib/python3.10/dist-packages/sklearn/svm/_base.py:1244: ConvergenceWarning: Liblinear failed to converge, increase the number of iterations.\n",
      "  warnings.warn(\n"
     ]
    },
    {
     "name": "stdout",
     "output_type": "stream",
     "text": [
      "[CV 4/5] END ...C=10, max_iter=5000, tol=0.0001;, score=0.907 total time=   0.9s\n"
     ]
    },
    {
     "name": "stderr",
     "output_type": "stream",
     "text": [
      "/usr/local/lib/python3.10/dist-packages/sklearn/svm/_base.py:1244: ConvergenceWarning: Liblinear failed to converge, increase the number of iterations.\n",
      "  warnings.warn(\n"
     ]
    },
    {
     "name": "stdout",
     "output_type": "stream",
     "text": [
      "[CV 5/5] END ...C=10, max_iter=5000, tol=0.0001;, score=0.963 total time=   1.0s\n"
     ]
    },
    {
     "name": "stderr",
     "output_type": "stream",
     "text": [
      "/usr/local/lib/python3.10/dist-packages/sklearn/svm/_base.py:1244: ConvergenceWarning: Liblinear failed to converge, increase the number of iterations.\n",
      "  warnings.warn(\n"
     ]
    },
    {
     "name": "stdout",
     "output_type": "stream",
     "text": [
      "[CV 1/5] END ....C=10, max_iter=5000, tol=0.001;, score=0.903 total time=   0.7s\n"
     ]
    },
    {
     "name": "stderr",
     "output_type": "stream",
     "text": [
      "/usr/local/lib/python3.10/dist-packages/sklearn/svm/_base.py:1244: ConvergenceWarning: Liblinear failed to converge, increase the number of iterations.\n",
      "  warnings.warn(\n"
     ]
    },
    {
     "name": "stdout",
     "output_type": "stream",
     "text": [
      "[CV 2/5] END ....C=10, max_iter=5000, tol=0.001;, score=0.949 total time=   1.0s\n"
     ]
    },
    {
     "name": "stderr",
     "output_type": "stream",
     "text": [
      "/usr/local/lib/python3.10/dist-packages/sklearn/svm/_base.py:1244: ConvergenceWarning: Liblinear failed to converge, increase the number of iterations.\n",
      "  warnings.warn(\n"
     ]
    },
    {
     "name": "stdout",
     "output_type": "stream",
     "text": [
      "[CV 3/5] END ....C=10, max_iter=5000, tol=0.001;, score=0.921 total time=   0.8s\n"
     ]
    },
    {
     "name": "stderr",
     "output_type": "stream",
     "text": [
      "/usr/local/lib/python3.10/dist-packages/sklearn/svm/_base.py:1244: ConvergenceWarning: Liblinear failed to converge, increase the number of iterations.\n",
      "  warnings.warn(\n"
     ]
    },
    {
     "name": "stdout",
     "output_type": "stream",
     "text": [
      "[CV 4/5] END ....C=10, max_iter=5000, tol=0.001;, score=0.907 total time=   1.3s\n"
     ]
    },
    {
     "name": "stderr",
     "output_type": "stream",
     "text": [
      "/usr/local/lib/python3.10/dist-packages/sklearn/svm/_base.py:1244: ConvergenceWarning: Liblinear failed to converge, increase the number of iterations.\n",
      "  warnings.warn(\n"
     ]
    },
    {
     "name": "stdout",
     "output_type": "stream",
     "text": [
      "[CV 5/5] END ....C=10, max_iter=5000, tol=0.001;, score=0.963 total time=   1.8s\n",
      "[CV 1/5] END .....C=10, max_iter=5000, tol=0.01;, score=0.903 total time=   1.2s\n",
      "[CV 2/5] END .....C=10, max_iter=5000, tol=0.01;, score=0.949 total time=   1.8s\n",
      "[CV 3/5] END .....C=10, max_iter=5000, tol=0.01;, score=0.921 total time=   1.1s\n",
      "[CV 4/5] END .....C=10, max_iter=5000, tol=0.01;, score=0.907 total time=   0.6s\n",
      "[CV 5/5] END .....C=10, max_iter=5000, tol=0.01;, score=0.963 total time=   0.6s\n"
     ]
    },
    {
     "name": "stderr",
     "output_type": "stream",
     "text": [
      "/usr/local/lib/python3.10/dist-packages/sklearn/svm/_base.py:1244: ConvergenceWarning: Liblinear failed to converge, increase the number of iterations.\n",
      "  warnings.warn(\n"
     ]
    },
    {
     "name": "stdout",
     "output_type": "stream",
     "text": [
      "[CV 1/5] END ..C=10, max_iter=10000, tol=0.0001;, score=0.903 total time=   1.9s\n",
      "[CV 2/5] END ..C=10, max_iter=10000, tol=0.0001;, score=0.949 total time=   1.6s\n",
      "[CV 3/5] END ..C=10, max_iter=10000, tol=0.0001;, score=0.921 total time=   0.9s\n"
     ]
    },
    {
     "name": "stderr",
     "output_type": "stream",
     "text": [
      "/usr/local/lib/python3.10/dist-packages/sklearn/svm/_base.py:1244: ConvergenceWarning: Liblinear failed to converge, increase the number of iterations.\n",
      "  warnings.warn(\n"
     ]
    },
    {
     "name": "stdout",
     "output_type": "stream",
     "text": [
      "[CV 4/5] END ..C=10, max_iter=10000, tol=0.0001;, score=0.907 total time=   1.3s\n"
     ]
    },
    {
     "name": "stderr",
     "output_type": "stream",
     "text": [
      "/usr/local/lib/python3.10/dist-packages/sklearn/svm/_base.py:1244: ConvergenceWarning: Liblinear failed to converge, increase the number of iterations.\n",
      "  warnings.warn(\n"
     ]
    },
    {
     "name": "stdout",
     "output_type": "stream",
     "text": [
      "[CV 5/5] END ..C=10, max_iter=10000, tol=0.0001;, score=0.963 total time=   1.7s\n",
      "[CV 1/5] END ...C=10, max_iter=10000, tol=0.001;, score=0.903 total time=   1.0s\n",
      "[CV 2/5] END ...C=10, max_iter=10000, tol=0.001;, score=0.949 total time=   1.3s\n",
      "[CV 3/5] END ...C=10, max_iter=10000, tol=0.001;, score=0.921 total time=   0.7s\n",
      "[CV 4/5] END ...C=10, max_iter=10000, tol=0.001;, score=0.907 total time=   0.8s\n",
      "[CV 5/5] END ...C=10, max_iter=10000, tol=0.001;, score=0.963 total time=   0.9s\n",
      "[CV 1/5] END ....C=10, max_iter=10000, tol=0.01;, score=0.903 total time=   0.5s\n",
      "[CV 2/5] END ....C=10, max_iter=10000, tol=0.01;, score=0.949 total time=   0.5s\n",
      "[CV 3/5] END ....C=10, max_iter=10000, tol=0.01;, score=0.921 total time=   0.4s\n",
      "[CV 4/5] END ....C=10, max_iter=10000, tol=0.01;, score=0.907 total time=   0.4s\n",
      "[CV 5/5] END ....C=10, max_iter=10000, tol=0.01;, score=0.963 total time=   0.5s\n",
      "[CV 1/5] END ..C=100, max_iter=1000, tol=0.0001;, score=0.898 total time=   0.2s\n"
     ]
    },
    {
     "name": "stderr",
     "output_type": "stream",
     "text": [
      "/usr/local/lib/python3.10/dist-packages/sklearn/svm/_base.py:1244: ConvergenceWarning: Liblinear failed to converge, increase the number of iterations.\n",
      "  warnings.warn(\n",
      "/usr/local/lib/python3.10/dist-packages/sklearn/svm/_base.py:1244: ConvergenceWarning: Liblinear failed to converge, increase the number of iterations.\n",
      "  warnings.warn(\n",
      "/usr/local/lib/python3.10/dist-packages/sklearn/svm/_base.py:1244: ConvergenceWarning: Liblinear failed to converge, increase the number of iterations.\n",
      "  warnings.warn(\n"
     ]
    },
    {
     "name": "stdout",
     "output_type": "stream",
     "text": [
      "[CV 2/5] END ..C=100, max_iter=1000, tol=0.0001;, score=0.940 total time=   0.2s\n",
      "[CV 3/5] END ..C=100, max_iter=1000, tol=0.0001;, score=0.921 total time=   0.2s\n"
     ]
    },
    {
     "name": "stderr",
     "output_type": "stream",
     "text": [
      "/usr/local/lib/python3.10/dist-packages/sklearn/svm/_base.py:1244: ConvergenceWarning: Liblinear failed to converge, increase the number of iterations.\n",
      "  warnings.warn(\n"
     ]
    },
    {
     "name": "stdout",
     "output_type": "stream",
     "text": [
      "[CV 4/5] END ..C=100, max_iter=1000, tol=0.0001;, score=0.902 total time=   0.2s\n",
      "[CV 5/5] END ..C=100, max_iter=1000, tol=0.0001;, score=0.963 total time=   0.2s\n"
     ]
    },
    {
     "name": "stderr",
     "output_type": "stream",
     "text": [
      "/usr/local/lib/python3.10/dist-packages/sklearn/svm/_base.py:1244: ConvergenceWarning: Liblinear failed to converge, increase the number of iterations.\n",
      "  warnings.warn(\n",
      "/usr/local/lib/python3.10/dist-packages/sklearn/svm/_base.py:1244: ConvergenceWarning: Liblinear failed to converge, increase the number of iterations.\n",
      "  warnings.warn(\n"
     ]
    },
    {
     "name": "stdout",
     "output_type": "stream",
     "text": [
      "[CV 1/5] END ...C=100, max_iter=1000, tol=0.001;, score=0.889 total time=   0.2s\n"
     ]
    },
    {
     "name": "stderr",
     "output_type": "stream",
     "text": [
      "/usr/local/lib/python3.10/dist-packages/sklearn/svm/_base.py:1244: ConvergenceWarning: Liblinear failed to converge, increase the number of iterations.\n",
      "  warnings.warn(\n",
      "/usr/local/lib/python3.10/dist-packages/sklearn/svm/_base.py:1244: ConvergenceWarning: Liblinear failed to converge, increase the number of iterations.\n",
      "  warnings.warn(\n"
     ]
    },
    {
     "name": "stdout",
     "output_type": "stream",
     "text": [
      "[CV 2/5] END ...C=100, max_iter=1000, tol=0.001;, score=0.931 total time=   0.2s\n",
      "[CV 3/5] END ...C=100, max_iter=1000, tol=0.001;, score=0.921 total time=   0.2s\n"
     ]
    },
    {
     "name": "stderr",
     "output_type": "stream",
     "text": [
      "/usr/local/lib/python3.10/dist-packages/sklearn/svm/_base.py:1244: ConvergenceWarning: Liblinear failed to converge, increase the number of iterations.\n",
      "  warnings.warn(\n",
      "/usr/local/lib/python3.10/dist-packages/sklearn/svm/_base.py:1244: ConvergenceWarning: Liblinear failed to converge, increase the number of iterations.\n",
      "  warnings.warn(\n"
     ]
    },
    {
     "name": "stdout",
     "output_type": "stream",
     "text": [
      "[CV 4/5] END ...C=100, max_iter=1000, tol=0.001;, score=0.912 total time=   0.2s\n",
      "[CV 5/5] END ...C=100, max_iter=1000, tol=0.001;, score=0.958 total time=   0.2s\n"
     ]
    },
    {
     "name": "stderr",
     "output_type": "stream",
     "text": [
      "/usr/local/lib/python3.10/dist-packages/sklearn/svm/_base.py:1244: ConvergenceWarning: Liblinear failed to converge, increase the number of iterations.\n",
      "  warnings.warn(\n",
      "/usr/local/lib/python3.10/dist-packages/sklearn/svm/_base.py:1244: ConvergenceWarning: Liblinear failed to converge, increase the number of iterations.\n",
      "  warnings.warn(\n"
     ]
    },
    {
     "name": "stdout",
     "output_type": "stream",
     "text": [
      "[CV 1/5] END ....C=100, max_iter=1000, tol=0.01;, score=0.898 total time=   0.2s\n",
      "[CV 2/5] END ....C=100, max_iter=1000, tol=0.01;, score=0.940 total time=   0.2s\n",
      "[CV 3/5] END ....C=100, max_iter=1000, tol=0.01;, score=0.921 total time=   0.2s\n"
     ]
    },
    {
     "name": "stderr",
     "output_type": "stream",
     "text": [
      "/usr/local/lib/python3.10/dist-packages/sklearn/svm/_base.py:1244: ConvergenceWarning: Liblinear failed to converge, increase the number of iterations.\n",
      "  warnings.warn(\n",
      "/usr/local/lib/python3.10/dist-packages/sklearn/svm/_base.py:1244: ConvergenceWarning: Liblinear failed to converge, increase the number of iterations.\n",
      "  warnings.warn(\n"
     ]
    },
    {
     "name": "stdout",
     "output_type": "stream",
     "text": [
      "[CV 4/5] END ....C=100, max_iter=1000, tol=0.01;, score=0.912 total time=   0.2s\n"
     ]
    },
    {
     "name": "stderr",
     "output_type": "stream",
     "text": [
      "/usr/local/lib/python3.10/dist-packages/sklearn/svm/_base.py:1244: ConvergenceWarning: Liblinear failed to converge, increase the number of iterations.\n",
      "  warnings.warn(\n"
     ]
    },
    {
     "name": "stdout",
     "output_type": "stream",
     "text": [
      "[CV 5/5] END ....C=100, max_iter=1000, tol=0.01;, score=0.953 total time=   0.2s\n"
     ]
    },
    {
     "name": "stderr",
     "output_type": "stream",
     "text": [
      "/usr/local/lib/python3.10/dist-packages/sklearn/svm/_base.py:1244: ConvergenceWarning: Liblinear failed to converge, increase the number of iterations.\n",
      "  warnings.warn(\n"
     ]
    },
    {
     "name": "stdout",
     "output_type": "stream",
     "text": [
      "[CV 1/5] END ..C=100, max_iter=5000, tol=0.0001;, score=0.894 total time=   0.5s\n"
     ]
    },
    {
     "name": "stderr",
     "output_type": "stream",
     "text": [
      "/usr/local/lib/python3.10/dist-packages/sklearn/svm/_base.py:1244: ConvergenceWarning: Liblinear failed to converge, increase the number of iterations.\n",
      "  warnings.warn(\n"
     ]
    },
    {
     "name": "stdout",
     "output_type": "stream",
     "text": [
      "[CV 2/5] END ..C=100, max_iter=5000, tol=0.0001;, score=0.935 total time=   0.6s\n"
     ]
    },
    {
     "name": "stderr",
     "output_type": "stream",
     "text": [
      "/usr/local/lib/python3.10/dist-packages/sklearn/svm/_base.py:1244: ConvergenceWarning: Liblinear failed to converge, increase the number of iterations.\n",
      "  warnings.warn(\n"
     ]
    },
    {
     "name": "stdout",
     "output_type": "stream",
     "text": [
      "[CV 3/5] END ..C=100, max_iter=5000, tol=0.0001;, score=0.912 total time=   0.5s\n"
     ]
    },
    {
     "name": "stderr",
     "output_type": "stream",
     "text": [
      "/usr/local/lib/python3.10/dist-packages/sklearn/svm/_base.py:1244: ConvergenceWarning: Liblinear failed to converge, increase the number of iterations.\n",
      "  warnings.warn(\n"
     ]
    },
    {
     "name": "stdout",
     "output_type": "stream",
     "text": [
      "[CV 4/5] END ..C=100, max_iter=5000, tol=0.0001;, score=0.893 total time=   0.5s\n"
     ]
    },
    {
     "name": "stderr",
     "output_type": "stream",
     "text": [
      "/usr/local/lib/python3.10/dist-packages/sklearn/svm/_base.py:1244: ConvergenceWarning: Liblinear failed to converge, increase the number of iterations.\n",
      "  warnings.warn(\n"
     ]
    },
    {
     "name": "stdout",
     "output_type": "stream",
     "text": [
      "[CV 5/5] END ..C=100, max_iter=5000, tol=0.0001;, score=0.958 total time=   0.6s\n"
     ]
    },
    {
     "name": "stderr",
     "output_type": "stream",
     "text": [
      "/usr/local/lib/python3.10/dist-packages/sklearn/svm/_base.py:1244: ConvergenceWarning: Liblinear failed to converge, increase the number of iterations.\n",
      "  warnings.warn(\n"
     ]
    },
    {
     "name": "stdout",
     "output_type": "stream",
     "text": [
      "[CV 1/5] END ...C=100, max_iter=5000, tol=0.001;, score=0.894 total time=   0.5s\n"
     ]
    },
    {
     "name": "stderr",
     "output_type": "stream",
     "text": [
      "/usr/local/lib/python3.10/dist-packages/sklearn/svm/_base.py:1244: ConvergenceWarning: Liblinear failed to converge, increase the number of iterations.\n",
      "  warnings.warn(\n"
     ]
    },
    {
     "name": "stdout",
     "output_type": "stream",
     "text": [
      "[CV 2/5] END ...C=100, max_iter=5000, tol=0.001;, score=0.935 total time=   0.5s\n"
     ]
    },
    {
     "name": "stderr",
     "output_type": "stream",
     "text": [
      "/usr/local/lib/python3.10/dist-packages/sklearn/svm/_base.py:1244: ConvergenceWarning: Liblinear failed to converge, increase the number of iterations.\n",
      "  warnings.warn(\n"
     ]
    },
    {
     "name": "stdout",
     "output_type": "stream",
     "text": [
      "[CV 3/5] END ...C=100, max_iter=5000, tol=0.001;, score=0.917 total time=   0.4s\n"
     ]
    },
    {
     "name": "stderr",
     "output_type": "stream",
     "text": [
      "/usr/local/lib/python3.10/dist-packages/sklearn/svm/_base.py:1244: ConvergenceWarning: Liblinear failed to converge, increase the number of iterations.\n",
      "  warnings.warn(\n"
     ]
    },
    {
     "name": "stdout",
     "output_type": "stream",
     "text": [
      "[CV 4/5] END ...C=100, max_iter=5000, tol=0.001;, score=0.893 total time=   0.5s\n"
     ]
    },
    {
     "name": "stderr",
     "output_type": "stream",
     "text": [
      "/usr/local/lib/python3.10/dist-packages/sklearn/svm/_base.py:1244: ConvergenceWarning: Liblinear failed to converge, increase the number of iterations.\n",
      "  warnings.warn(\n"
     ]
    },
    {
     "name": "stdout",
     "output_type": "stream",
     "text": [
      "[CV 5/5] END ...C=100, max_iter=5000, tol=0.001;, score=0.953 total time=   0.6s\n"
     ]
    },
    {
     "name": "stderr",
     "output_type": "stream",
     "text": [
      "/usr/local/lib/python3.10/dist-packages/sklearn/svm/_base.py:1244: ConvergenceWarning: Liblinear failed to converge, increase the number of iterations.\n",
      "  warnings.warn(\n"
     ]
    },
    {
     "name": "stdout",
     "output_type": "stream",
     "text": [
      "[CV 1/5] END ....C=100, max_iter=5000, tol=0.01;, score=0.889 total time=   0.4s\n"
     ]
    },
    {
     "name": "stderr",
     "output_type": "stream",
     "text": [
      "/usr/local/lib/python3.10/dist-packages/sklearn/svm/_base.py:1244: ConvergenceWarning: Liblinear failed to converge, increase the number of iterations.\n",
      "  warnings.warn(\n"
     ]
    },
    {
     "name": "stdout",
     "output_type": "stream",
     "text": [
      "[CV 2/5] END ....C=100, max_iter=5000, tol=0.01;, score=0.935 total time=   0.4s\n"
     ]
    },
    {
     "name": "stderr",
     "output_type": "stream",
     "text": [
      "/usr/local/lib/python3.10/dist-packages/sklearn/svm/_base.py:1244: ConvergenceWarning: Liblinear failed to converge, increase the number of iterations.\n",
      "  warnings.warn(\n"
     ]
    },
    {
     "name": "stdout",
     "output_type": "stream",
     "text": [
      "[CV 3/5] END ....C=100, max_iter=5000, tol=0.01;, score=0.917 total time=   0.5s\n"
     ]
    },
    {
     "name": "stderr",
     "output_type": "stream",
     "text": [
      "/usr/local/lib/python3.10/dist-packages/sklearn/svm/_base.py:1244: ConvergenceWarning: Liblinear failed to converge, increase the number of iterations.\n",
      "  warnings.warn(\n"
     ]
    },
    {
     "name": "stdout",
     "output_type": "stream",
     "text": [
      "[CV 4/5] END ....C=100, max_iter=5000, tol=0.01;, score=0.893 total time=   0.5s\n"
     ]
    },
    {
     "name": "stderr",
     "output_type": "stream",
     "text": [
      "/usr/local/lib/python3.10/dist-packages/sklearn/svm/_base.py:1244: ConvergenceWarning: Liblinear failed to converge, increase the number of iterations.\n",
      "  warnings.warn(\n"
     ]
    },
    {
     "name": "stdout",
     "output_type": "stream",
     "text": [
      "[CV 5/5] END ....C=100, max_iter=5000, tol=0.01;, score=0.949 total time=   0.7s\n"
     ]
    },
    {
     "name": "stderr",
     "output_type": "stream",
     "text": [
      "/usr/local/lib/python3.10/dist-packages/sklearn/svm/_base.py:1244: ConvergenceWarning: Liblinear failed to converge, increase the number of iterations.\n",
      "  warnings.warn(\n"
     ]
    },
    {
     "name": "stdout",
     "output_type": "stream",
     "text": [
      "[CV 1/5] END .C=100, max_iter=10000, tol=0.0001;, score=0.894 total time=   1.1s\n"
     ]
    },
    {
     "name": "stderr",
     "output_type": "stream",
     "text": [
      "/usr/local/lib/python3.10/dist-packages/sklearn/svm/_base.py:1244: ConvergenceWarning: Liblinear failed to converge, increase the number of iterations.\n",
      "  warnings.warn(\n"
     ]
    },
    {
     "name": "stdout",
     "output_type": "stream",
     "text": [
      "[CV 2/5] END .C=100, max_iter=10000, tol=0.0001;, score=0.935 total time=   1.2s\n"
     ]
    },
    {
     "name": "stderr",
     "output_type": "stream",
     "text": [
      "/usr/local/lib/python3.10/dist-packages/sklearn/svm/_base.py:1244: ConvergenceWarning: Liblinear failed to converge, increase the number of iterations.\n",
      "  warnings.warn(\n"
     ]
    },
    {
     "name": "stdout",
     "output_type": "stream",
     "text": [
      "[CV 3/5] END .C=100, max_iter=10000, tol=0.0001;, score=0.917 total time=   0.8s\n"
     ]
    },
    {
     "name": "stderr",
     "output_type": "stream",
     "text": [
      "/usr/local/lib/python3.10/dist-packages/sklearn/svm/_base.py:1244: ConvergenceWarning: Liblinear failed to converge, increase the number of iterations.\n",
      "  warnings.warn(\n"
     ]
    },
    {
     "name": "stdout",
     "output_type": "stream",
     "text": [
      "[CV 4/5] END .C=100, max_iter=10000, tol=0.0001;, score=0.893 total time=   0.8s\n"
     ]
    },
    {
     "name": "stderr",
     "output_type": "stream",
     "text": [
      "/usr/local/lib/python3.10/dist-packages/sklearn/svm/_base.py:1244: ConvergenceWarning: Liblinear failed to converge, increase the number of iterations.\n",
      "  warnings.warn(\n"
     ]
    },
    {
     "name": "stdout",
     "output_type": "stream",
     "text": [
      "[CV 5/5] END .C=100, max_iter=10000, tol=0.0001;, score=0.953 total time=   0.9s\n"
     ]
    },
    {
     "name": "stderr",
     "output_type": "stream",
     "text": [
      "/usr/local/lib/python3.10/dist-packages/sklearn/svm/_base.py:1244: ConvergenceWarning: Liblinear failed to converge, increase the number of iterations.\n",
      "  warnings.warn(\n"
     ]
    },
    {
     "name": "stdout",
     "output_type": "stream",
     "text": [
      "[CV 1/5] END ..C=100, max_iter=10000, tol=0.001;, score=0.894 total time=   0.7s\n"
     ]
    },
    {
     "name": "stderr",
     "output_type": "stream",
     "text": [
      "/usr/local/lib/python3.10/dist-packages/sklearn/svm/_base.py:1244: ConvergenceWarning: Liblinear failed to converge, increase the number of iterations.\n",
      "  warnings.warn(\n"
     ]
    },
    {
     "name": "stdout",
     "output_type": "stream",
     "text": [
      "[CV 2/5] END ..C=100, max_iter=10000, tol=0.001;, score=0.935 total time=   0.8s\n"
     ]
    },
    {
     "name": "stderr",
     "output_type": "stream",
     "text": [
      "/usr/local/lib/python3.10/dist-packages/sklearn/svm/_base.py:1244: ConvergenceWarning: Liblinear failed to converge, increase the number of iterations.\n",
      "  warnings.warn(\n"
     ]
    },
    {
     "name": "stdout",
     "output_type": "stream",
     "text": [
      "[CV 3/5] END ..C=100, max_iter=10000, tol=0.001;, score=0.917 total time=   0.6s\n"
     ]
    },
    {
     "name": "stderr",
     "output_type": "stream",
     "text": [
      "/usr/local/lib/python3.10/dist-packages/sklearn/svm/_base.py:1244: ConvergenceWarning: Liblinear failed to converge, increase the number of iterations.\n",
      "  warnings.warn(\n"
     ]
    },
    {
     "name": "stdout",
     "output_type": "stream",
     "text": [
      "[CV 4/5] END ..C=100, max_iter=10000, tol=0.001;, score=0.893 total time=   0.6s\n"
     ]
    },
    {
     "name": "stderr",
     "output_type": "stream",
     "text": [
      "/usr/local/lib/python3.10/dist-packages/sklearn/svm/_base.py:1244: ConvergenceWarning: Liblinear failed to converge, increase the number of iterations.\n",
      "  warnings.warn(\n"
     ]
    },
    {
     "name": "stdout",
     "output_type": "stream",
     "text": [
      "[CV 5/5] END ..C=100, max_iter=10000, tol=0.001;, score=0.958 total time=   0.8s\n"
     ]
    },
    {
     "name": "stderr",
     "output_type": "stream",
     "text": [
      "/usr/local/lib/python3.10/dist-packages/sklearn/svm/_base.py:1244: ConvergenceWarning: Liblinear failed to converge, increase the number of iterations.\n",
      "  warnings.warn(\n"
     ]
    },
    {
     "name": "stdout",
     "output_type": "stream",
     "text": [
      "[CV 1/5] END ...C=100, max_iter=10000, tol=0.01;, score=0.889 total time=   0.5s\n"
     ]
    },
    {
     "name": "stderr",
     "output_type": "stream",
     "text": [
      "/usr/local/lib/python3.10/dist-packages/sklearn/svm/_base.py:1244: ConvergenceWarning: Liblinear failed to converge, increase the number of iterations.\n",
      "  warnings.warn(\n"
     ]
    },
    {
     "name": "stdout",
     "output_type": "stream",
     "text": [
      "[CV 2/5] END ...C=100, max_iter=10000, tol=0.01;, score=0.935 total time=   0.6s\n"
     ]
    },
    {
     "name": "stderr",
     "output_type": "stream",
     "text": [
      "/usr/local/lib/python3.10/dist-packages/sklearn/svm/_base.py:1244: ConvergenceWarning: Liblinear failed to converge, increase the number of iterations.\n",
      "  warnings.warn(\n"
     ]
    },
    {
     "name": "stdout",
     "output_type": "stream",
     "text": [
      "[CV 3/5] END ...C=100, max_iter=10000, tol=0.01;, score=0.917 total time=   0.5s\n"
     ]
    },
    {
     "name": "stderr",
     "output_type": "stream",
     "text": [
      "/usr/local/lib/python3.10/dist-packages/sklearn/svm/_base.py:1244: ConvergenceWarning: Liblinear failed to converge, increase the number of iterations.\n",
      "  warnings.warn(\n"
     ]
    },
    {
     "name": "stdout",
     "output_type": "stream",
     "text": [
      "[CV 4/5] END ...C=100, max_iter=10000, tol=0.01;, score=0.893 total time=   0.5s\n"
     ]
    },
    {
     "name": "stderr",
     "output_type": "stream",
     "text": [
      "/usr/local/lib/python3.10/dist-packages/sklearn/svm/_base.py:1244: ConvergenceWarning: Liblinear failed to converge, increase the number of iterations.\n",
      "  warnings.warn(\n"
     ]
    },
    {
     "name": "stdout",
     "output_type": "stream",
     "text": [
      "[CV 5/5] END ...C=100, max_iter=10000, tol=0.01;, score=0.958 total time=   0.6s\n",
      "Best Parameters: {'C': 1, 'max_iter': 1000, 'tol': 0.0001}\n",
      "LinearSVC Classification Report with Hyperparameter Tuning:\n",
      "              precision    recall  f1-score   support\n",
      "\n",
      "           0       0.96      0.96      0.96        71\n",
      "           1       0.90      0.85      0.87        73\n",
      "           2       1.00      1.00      1.00        71\n",
      "           3       0.95      0.81      0.88        74\n",
      "           4       0.97      0.93      0.95        74\n",
      "           5       0.88      0.99      0.93        71\n",
      "           6       0.95      0.99      0.97        74\n",
      "           7       0.95      0.96      0.95        72\n",
      "           8       0.87      0.90      0.88        68\n",
      "           9       0.84      0.87      0.86        71\n",
      "\n",
      "    accuracy                           0.92       719\n",
      "   macro avg       0.93      0.93      0.92       719\n",
      "weighted avg       0.93      0.92      0.92       719\n",
      "\n"
     ]
    }
   ],
   "source": [
    "# Import LinearSVC for classification and train/test split for evaluation. LinearSVC is a type of Support Vector Machine that works well for classifying high-dimensional data like images.\n",
    "# Import LinearSVC for classification and train/test split for evaluation.\n",
    "from sklearn.svm import LinearSVC\n",
    "from sklearn.model_selection import GridSearchCV\n",
    "from sklearn import metrics\n",
    "import numpy as np\n",
    "from sklearn.model_selection import train_test_split\n",
    "param_grid = {\n",
    "    'C': [0.01, 0.1, 1, 10, 100],  # Regularization parameter\n",
    "    'max_iter': [1000, 5000, 10000],  # Maximum number of iterations to converge\n",
    "    'tol': [1e-4, 1e-3, 1e-2]  # Tolerance for stopping criteria\n",
    "}\n",
    "\n",
    "# Create a GridSearchCV object\n",
    "grid_search = GridSearchCV(LinearSVC(), param_grid, refit=True, verbose=3, cv=5)\n",
    "\n",
    "# Fit the model on the training data\n",
    "grid_search.fit(X_train, y_train)\n",
    "\n",
    "# Print out the best parameters\n",
    "print(\"Best Parameters:\", grid_search.best_params_)\n",
    "\n",
    "# Make predictions with the best estimator\n",
    "best_linear_svc = grid_search.best_estimator_\n",
    "predicted = best_linear_svc.predict(X_test)\n",
    "\n",
    "# Generate the classification report\n",
    "linear_svc_report = metrics.classification_report(y_test, predicted)\n",
    "print(\"LinearSVC Classification Report with Hyperparameter Tuning:\")\n",
    "print(linear_svc_report)"
   ]
  },
  {
   "cell_type": "markdown",
   "id": "a4375c4b",
   "metadata": {},
   "source": [
    "### Visualize Test Image\n",
    "Here, we display a test image for visual verification, which helps in understanding how the model will interpret images."
   ]
  },
  {
   "cell_type": "code",
   "execution_count": 22,
   "metadata": {
    "colab": {
     "base_uri": "https://localhost:8080/",
     "height": 447
    },
    "id": "Dax0eno9550I",
    "outputId": "edbfa8c8-f903-4e36-f727-f11ffb9ee41d"
   },
   "outputs": [
    {
     "data": {
      "image/png": "[encoded data removed]",
      "text/plain": [
       "<Figure size 640x480 with 1 Axes>"
      ]
     },
     "metadata": {},
     "output_type": "display_data"
    },
    {
     "name": "stdout",
     "output_type": "stream",
     "text": [
      "Predicted : 3\n"
     ]
    }
   ],
   "source": [
    "# Display a test image for visual verification. This helps in understanding how the model will interpret new, unseen data.\n",
    "# Display a test image for visual verification.\n",
    "plt.imshow(X_test[12].reshape((12,12)))\n",
    "plt.show()\n",
    "print(\"Predicted : \" + str(predicted[12]))"
   ]
  },
  {
   "cell_type": "markdown",
   "id": "84ba73b2",
   "metadata": {},
   "source": [
    "### Prepare Data for Model Predictions\n",
    "This cell appears to prepare an array for model predictions, a step typically used for formatting the output of the model."
   ]
  },
  {
   "cell_type": "code",
   "execution_count": 23,
   "metadata": {
    "colab": {
     "base_uri": "https://localhost:8080/",
     "height": 447
    },
    "id": "wRiw4tdE57H0",
    "outputId": "3886778e-05a2-4708-993b-7e7f87157c8d"
   },
   "outputs": [
    {
     "data": {
      "image/png": "[encoded data removed]",
      "text/plain": [
       "<Figure size 640x480 with 1 Axes>"
      ]
     },
     "metadata": {},
     "output_type": "display_data"
    },
    {
     "name": "stdout",
     "output_type": "stream",
     "text": [
      "Prediction : 5\n"
     ]
    }
   ],
   "source": [
    "# Prepare an array for model predictions. This step is typically used to format or preallocate space for model outputs.\n",
    "# Prepare an array for model predictions (details unclear without more context).\n",
    "arr = [0, 0, 0, 0, 0, 0, 0, 0, 0, 0, 0, 0, 0, 0, 0.648438, 0.820313, 0.828125, 0.75, 0.75, 0.75, 0.742188, 0, 0, 0, 0, 0, 0.65625, 0.757813, 0.648438, 0.5625, 0, 0, 0, 0, 0, 0, 0, 0, 0.65625, 0.75, 0, 0, 0, 0, 0, 0, 0, 0, 0, 0, 0.734375, 0.742188, 0, 0, 0, 0, 0, 0, 0, 0, 0, 0, 0.75, 0.546875, 0.640625, 0.640625, 0, 0, 0, 0, 0, 0, 0, 0, 0.734375, 0.75, 0.742188, 0.742188, 0.75, 0.75, 0.546875, 0, 0, 0, 0, 0, 0, 0, 0, 0, 0, 0, 0.734375, 0.648438, 0, 0, 0, 0, 0, 0, 0, 0, 0, 0, 0, 0.75, 0, 0, 0, 0, 0, 0, 0, 0, 0, 0, 0, 0.742188, 0, 0, 0, 0, 0, 0, 0, 0, 0, 0, 0.75, 0, 0, 0, 0, 0, 0, 0.539063, 0, 0, 0, 0.65625, 0.75, 0, 0, 0]\n",
    "b = np.asarray(arr).reshape((12,12))\n",
    "plt.imshow(b,cmap='gray')\n",
    "plt.show()\n",
    "print('Prediction : ' + str(clf.predict([arr])[0]))"
   ]
  },
  {
   "cell_type": "markdown",
   "id": "d2068b64",
   "metadata": {},
   "source": [
    "### Install and Import Model Conversion Tool\n",
    "In this cell, we install and import `m2cgen`, a tool used for converting machine learning models into native code for various applications."
   ]
  },
  {
   "cell_type": "code",
   "execution_count": 25,
   "metadata": {
    "colab": {
     "base_uri": "https://localhost:8080/"
    },
    "id": "CqQ--wi49GMx",
    "outputId": "a62588fb-0b42-4ce7-fe61-fa4ebd00b5fa"
   },
   "outputs": [
    {
     "name": "stdout",
     "output_type": "stream",
     "text": [
      "Collecting m2cgen\n",
      "  Downloading m2cgen-0.10.0-py3-none-any.whl (92 kB)\n",
      "\u001b[2K     \u001b[90m━━━━━━━━━━━━━━━━━━━━━━━━━━━━━━━━━━━━━━━━\u001b[0m \u001b[32m92.2/92.2 kB\u001b[0m \u001b[31m1.7 MB/s\u001b[0m eta \u001b[36m0:00:00\u001b[0m\n",
      "\u001b[?25hRequirement already satisfied: numpy in /usr/local/lib/python3.10/dist-packages (from m2cgen) (1.23.5)\n",
      "Installing collected packages: m2cgen\n",
      "Successfully installed m2cgen-0.10.0\n"
     ]
    }
   ],
   "source": [
    "# Install and import m2cgen for model conversion. This is used for converting machine learning models into a native code (like C, Java, or others) for various applications.\n",
    "# Install and import m2cgen for model conversion.\n",
    "!pip install m2cgen\n",
    "import m2cgen as m2c\n",
    "import numpy as np\n",
    "import sys\n",
    "sys.setrecursionlimit(2147483647)\n",
    "code = m2c.export_to_python(clf)\n",
    "with open('svm.py', 'w') as f:\n",
    "    f.write(code)"
   ]
  },
  {
   "cell_type": "markdown",
   "id": "19a8e000",
   "metadata": {},
   "source": [
    "### Install Python Minimizer\n",
    "Finally, we install `python-minimizer`, which is useful for optimization tasks in machine learning, such as parameter tuning and model optimization."
   ]
  },
  {
   "cell_type": "code",
   "execution_count": 26,
   "metadata": {
    "colab": {
     "base_uri": "https://localhost:8080/"
    },
    "id": "5FV_Ld2m9JlL",
    "outputId": "23d49de1-3f24-4523-ea80-0d3a9b7f40f4"
   },
   "outputs": [
    {
     "name": "stdout",
     "output_type": "stream",
     "text": [
      "Collecting python-minimizer\n",
      "  Downloading python_minimizer-2.0.1-py3-none-any.whl (6.8 kB)\n",
      "Installing collected packages: python-minimizer\n",
      "Successfully installed python-minimizer-2.0.1\n"
     ]
    }
   ],
   "source": [
    "# Install python-minimizer for optimization tasks. This library is helpful in optimizing model parameters or other optimization tasks within the machine learning workflow.\n",
    "# Install python-minimizer for optimization tasks.\n",
    "!pip install python-minimizer"
   ]
  },
  {
   "cell_type": "code",
   "execution_count": 27,
   "metadata": {
    "colab": {
     "base_uri": "https://localhost:8080/"
    },
    "id": "M-Z8uNx09VbR",
    "outputId": "8e832560-9ff9-469b-bb38-ab661b120e6e"
   },
   "outputs": [
    {
     "name": "stdout",
     "output_type": "stream",
     "text": [
      "-rw-r--r-- 1 root root 43K Dec  2 05:17 svm_min.py\n"
     ]
    }
   ],
   "source": [
    "!python-minimizer svm.py -o svm_min.py\n",
    "!ls -alh svm_min.py"
   ]
  },
  {
   "cell_type": "markdown",
   "metadata": {},
   "source": [
    "The following models have been developed to evaluate the accuracy within this dataset. However, they have not been utilized due to their considerable size."
   ]
  },
  {
   "cell_type": "code",
   "execution_count": 28,
   "metadata": {
    "colab": {
     "base_uri": "https://localhost:8080/"
    },
    "id": "Zj11Hm2v9avF",
    "outputId": "ef43fc99-921b-4c09-fc1c-8dd9be233867"
   },
   "outputs": [
    {
     "name": "stdout",
     "output_type": "stream",
     "text": [
      "Fitting 5 folds for each of 32 candidates, totalling 160 fits\n",
      "[CV 1/5] END ....C=0.1, gamma=scale, kernel=rbf;, score=0.843 total time=   0.4s\n",
      "[CV 2/5] END ....C=0.1, gamma=scale, kernel=rbf;, score=0.963 total time=   0.1s\n",
      "[CV 3/5] END ....C=0.1, gamma=scale, kernel=rbf;, score=0.875 total time=   0.2s\n",
      "[CV 4/5] END ....C=0.1, gamma=scale, kernel=rbf;, score=0.898 total time=   0.4s\n",
      "[CV 5/5] END ....C=0.1, gamma=scale, kernel=rbf;, score=0.926 total time=   0.4s\n",
      "[CV 1/5] END .C=0.1, gamma=scale, kernel=linear;, score=0.889 total time=   0.1s\n",
      "[CV 2/5] END .C=0.1, gamma=scale, kernel=linear;, score=0.972 total time=   0.1s\n",
      "[CV 3/5] END .C=0.1, gamma=scale, kernel=linear;, score=0.954 total time=   0.1s\n",
      "[CV 4/5] END .C=0.1, gamma=scale, kernel=linear;, score=0.935 total time=   0.1s\n",
      "[CV 5/5] END .C=0.1, gamma=scale, kernel=linear;, score=0.986 total time=   0.2s\n",
      "[CV 1/5] END ...C=0.1, gamma=scale, kernel=poly;, score=0.889 total time=   0.1s\n",
      "[CV 2/5] END ...C=0.1, gamma=scale, kernel=poly;, score=0.972 total time=   0.1s\n",
      "[CV 3/5] END ...C=0.1, gamma=scale, kernel=poly;, score=0.940 total time=   0.1s\n",
      "[CV 4/5] END ...C=0.1, gamma=scale, kernel=poly;, score=0.940 total time=   0.1s\n",
      "[CV 5/5] END ...C=0.1, gamma=scale, kernel=poly;, score=0.981 total time=   0.1s\n",
      "[CV 1/5] END C=0.1, gamma=scale, kernel=sigmoid;, score=0.310 total time=   0.5s\n",
      "[CV 2/5] END C=0.1, gamma=scale, kernel=sigmoid;, score=0.384 total time=   0.6s\n",
      "[CV 3/5] END C=0.1, gamma=scale, kernel=sigmoid;, score=0.426 total time=   0.8s\n",
      "[CV 4/5] END C=0.1, gamma=scale, kernel=sigmoid;, score=0.400 total time=   0.5s\n",
      "[CV 5/5] END C=0.1, gamma=scale, kernel=sigmoid;, score=0.363 total time=   0.5s\n",
      "[CV 1/5] END .....C=0.1, gamma=auto, kernel=rbf;, score=0.157 total time=   0.5s\n",
      "[CV 2/5] END .....C=0.1, gamma=auto, kernel=rbf;, score=0.347 total time=   0.4s\n",
      "[CV 3/5] END .....C=0.1, gamma=auto, kernel=rbf;, score=0.306 total time=   0.4s\n",
      "[CV 4/5] END .....C=0.1, gamma=auto, kernel=rbf;, score=0.391 total time=   0.4s\n",
      "[CV 5/5] END .....C=0.1, gamma=auto, kernel=rbf;, score=0.307 total time=   0.4s\n",
      "[CV 1/5] END ..C=0.1, gamma=auto, kernel=linear;, score=0.889 total time=   0.1s\n",
      "[CV 2/5] END ..C=0.1, gamma=auto, kernel=linear;, score=0.972 total time=   0.1s\n",
      "[CV 3/5] END ..C=0.1, gamma=auto, kernel=linear;, score=0.954 total time=   0.1s\n",
      "[CV 4/5] END ..C=0.1, gamma=auto, kernel=linear;, score=0.935 total time=   0.1s\n",
      "[CV 5/5] END ..C=0.1, gamma=auto, kernel=linear;, score=0.986 total time=   0.1s\n",
      "[CV 1/5] END ....C=0.1, gamma=auto, kernel=poly;, score=0.102 total time=   0.3s\n",
      "[CV 2/5] END ....C=0.1, gamma=auto, kernel=poly;, score=0.102 total time=   0.4s\n",
      "[CV 3/5] END ....C=0.1, gamma=auto, kernel=poly;, score=0.102 total time=   0.4s\n",
      "[CV 4/5] END ....C=0.1, gamma=auto, kernel=poly;, score=0.205 total time=   0.2s\n",
      "[CV 5/5] END ....C=0.1, gamma=auto, kernel=poly;, score=0.102 total time=   0.4s\n",
      "[CV 1/5] END .C=0.1, gamma=auto, kernel=sigmoid;, score=0.102 total time=   1.1s\n",
      "[CV 2/5] END .C=0.1, gamma=auto, kernel=sigmoid;, score=0.102 total time=   1.0s\n",
      "[CV 3/5] END .C=0.1, gamma=auto, kernel=sigmoid;, score=0.102 total time=   1.0s\n",
      "[CV 4/5] END .C=0.1, gamma=auto, kernel=sigmoid;, score=0.205 total time=   0.6s\n",
      "[CV 5/5] END .C=0.1, gamma=auto, kernel=sigmoid;, score=0.102 total time=   0.6s\n",
      "[CV 1/5] END ......C=1, gamma=scale, kernel=rbf;, score=0.921 total time=   0.3s\n",
      "[CV 2/5] END ......C=1, gamma=scale, kernel=rbf;, score=0.972 total time=   0.2s\n",
      "[CV 3/5] END ......C=1, gamma=scale, kernel=rbf;, score=0.958 total time=   0.1s\n",
      "[CV 4/5] END ......C=1, gamma=scale, kernel=rbf;, score=0.967 total time=   0.2s\n",
      "[CV 5/5] END ......C=1, gamma=scale, kernel=rbf;, score=0.981 total time=   0.2s\n",
      "[CV 1/5] END ...C=1, gamma=scale, kernel=linear;, score=0.912 total time=   0.1s\n",
      "[CV 2/5] END ...C=1, gamma=scale, kernel=linear;, score=0.968 total time=   0.1s\n",
      "[CV 3/5] END ...C=1, gamma=scale, kernel=linear;, score=0.954 total time=   0.1s\n",
      "[CV 4/5] END ...C=1, gamma=scale, kernel=linear;, score=0.949 total time=   0.1s\n",
      "[CV 5/5] END ...C=1, gamma=scale, kernel=linear;, score=0.972 total time=   0.0s\n",
      "[CV 1/5] END .....C=1, gamma=scale, kernel=poly;, score=0.935 total time=   0.1s\n",
      "[CV 2/5] END .....C=1, gamma=scale, kernel=poly;, score=0.972 total time=   0.1s\n",
      "[CV 3/5] END .....C=1, gamma=scale, kernel=poly;, score=0.963 total time=   0.1s\n",
      "[CV 4/5] END .....C=1, gamma=scale, kernel=poly;, score=0.963 total time=   0.1s\n",
      "[CV 5/5] END .....C=1, gamma=scale, kernel=poly;, score=0.986 total time=   0.0s\n",
      "[CV 1/5] END ..C=1, gamma=scale, kernel=sigmoid;, score=0.806 total time=   0.4s\n",
      "[CV 2/5] END ..C=1, gamma=scale, kernel=sigmoid;, score=0.861 total time=   0.3s\n",
      "[CV 3/5] END ..C=1, gamma=scale, kernel=sigmoid;, score=0.824 total time=   0.2s\n",
      "[CV 4/5] END ..C=1, gamma=scale, kernel=sigmoid;, score=0.795 total time=   0.3s\n",
      "[CV 5/5] END ..C=1, gamma=scale, kernel=sigmoid;, score=0.912 total time=   0.2s\n",
      "[CV 1/5] END .......C=1, gamma=auto, kernel=rbf;, score=0.852 total time=   0.2s\n",
      "[CV 2/5] END .......C=1, gamma=auto, kernel=rbf;, score=0.958 total time=   0.2s\n",
      "[CV 3/5] END .......C=1, gamma=auto, kernel=rbf;, score=0.898 total time=   0.2s\n",
      "[CV 4/5] END .......C=1, gamma=auto, kernel=rbf;, score=0.879 total time=   0.4s\n",
      "[CV 5/5] END .......C=1, gamma=auto, kernel=rbf;, score=0.935 total time=   0.2s\n",
      "[CV 1/5] END ....C=1, gamma=auto, kernel=linear;, score=0.912 total time=   0.0s\n",
      "[CV 2/5] END ....C=1, gamma=auto, kernel=linear;, score=0.968 total time=   0.1s\n",
      "[CV 3/5] END ....C=1, gamma=auto, kernel=linear;, score=0.954 total time=   0.0s\n",
      "[CV 4/5] END ....C=1, gamma=auto, kernel=linear;, score=0.949 total time=   0.1s\n",
      "[CV 5/5] END ....C=1, gamma=auto, kernel=linear;, score=0.972 total time=   0.1s\n",
      "[CV 1/5] END ......C=1, gamma=auto, kernel=poly;, score=0.102 total time=   0.2s\n",
      "[CV 2/5] END ......C=1, gamma=auto, kernel=poly;, score=0.102 total time=   0.2s\n",
      "[CV 3/5] END ......C=1, gamma=auto, kernel=poly;, score=0.102 total time=   0.2s\n",
      "[CV 4/5] END ......C=1, gamma=auto, kernel=poly;, score=0.205 total time=   0.2s\n",
      "[CV 5/5] END ......C=1, gamma=auto, kernel=poly;, score=0.102 total time=   0.2s\n",
      "[CV 1/5] END ...C=1, gamma=auto, kernel=sigmoid;, score=0.819 total time=   0.2s\n",
      "[CV 2/5] END ...C=1, gamma=auto, kernel=sigmoid;, score=0.944 total time=   0.2s\n",
      "[CV 3/5] END ...C=1, gamma=auto, kernel=sigmoid;, score=0.843 total time=   0.2s\n",
      "[CV 4/5] END ...C=1, gamma=auto, kernel=sigmoid;, score=0.870 total time=   0.2s\n",
      "[CV 5/5] END ...C=1, gamma=auto, kernel=sigmoid;, score=0.888 total time=   0.2s\n",
      "[CV 1/5] END .....C=10, gamma=scale, kernel=rbf;, score=0.940 total time=   0.1s\n",
      "[CV 2/5] END .....C=10, gamma=scale, kernel=rbf;, score=0.972 total time=   0.1s\n",
      "[CV 3/5] END .....C=10, gamma=scale, kernel=rbf;, score=0.968 total time=   0.2s\n",
      "[CV 4/5] END .....C=10, gamma=scale, kernel=rbf;, score=0.967 total time=   0.1s\n",
      "[CV 5/5] END .....C=10, gamma=scale, kernel=rbf;, score=0.986 total time=   0.2s\n",
      "[CV 1/5] END ..C=10, gamma=scale, kernel=linear;, score=0.917 total time=   0.0s\n",
      "[CV 2/5] END ..C=10, gamma=scale, kernel=linear;, score=0.963 total time=   0.1s\n",
      "[CV 3/5] END ..C=10, gamma=scale, kernel=linear;, score=0.954 total time=   0.1s\n",
      "[CV 4/5] END ..C=10, gamma=scale, kernel=linear;, score=0.953 total time=   0.1s\n",
      "[CV 5/5] END ..C=10, gamma=scale, kernel=linear;, score=0.972 total time=   0.1s\n",
      "[CV 1/5] END ....C=10, gamma=scale, kernel=poly;, score=0.935 total time=   0.1s\n",
      "[CV 2/5] END ....C=10, gamma=scale, kernel=poly;, score=0.972 total time=   0.0s\n",
      "[CV 3/5] END ....C=10, gamma=scale, kernel=poly;, score=0.958 total time=   0.0s\n",
      "[CV 4/5] END ....C=10, gamma=scale, kernel=poly;, score=0.958 total time=   0.0s\n",
      "[CV 5/5] END ....C=10, gamma=scale, kernel=poly;, score=0.991 total time=   0.0s\n",
      "[CV 1/5] END .C=10, gamma=scale, kernel=sigmoid;, score=0.625 total time=   0.1s\n",
      "[CV 2/5] END .C=10, gamma=scale, kernel=sigmoid;, score=0.722 total time=   0.1s\n",
      "[CV 3/5] END .C=10, gamma=scale, kernel=sigmoid;, score=0.611 total time=   0.1s\n",
      "[CV 4/5] END .C=10, gamma=scale, kernel=sigmoid;, score=0.698 total time=   0.1s\n",
      "[CV 5/5] END .C=10, gamma=scale, kernel=sigmoid;, score=0.814 total time=   0.1s\n",
      "[CV 1/5] END ......C=10, gamma=auto, kernel=rbf;, score=0.898 total time=   0.1s\n",
      "[CV 2/5] END ......C=10, gamma=auto, kernel=rbf;, score=0.977 total time=   0.1s\n",
      "[CV 3/5] END ......C=10, gamma=auto, kernel=rbf;, score=0.949 total time=   0.1s\n",
      "[CV 4/5] END ......C=10, gamma=auto, kernel=rbf;, score=0.958 total time=   0.1s\n",
      "[CV 5/5] END ......C=10, gamma=auto, kernel=rbf;, score=0.986 total time=   0.1s\n",
      "[CV 1/5] END ...C=10, gamma=auto, kernel=linear;, score=0.917 total time=   0.1s\n",
      "[CV 2/5] END ...C=10, gamma=auto, kernel=linear;, score=0.963 total time=   0.1s\n",
      "[CV 3/5] END ...C=10, gamma=auto, kernel=linear;, score=0.954 total time=   0.0s\n",
      "[CV 4/5] END ...C=10, gamma=auto, kernel=linear;, score=0.953 total time=   0.0s\n",
      "[CV 5/5] END ...C=10, gamma=auto, kernel=linear;, score=0.972 total time=   0.0s\n",
      "[CV 1/5] END .....C=10, gamma=auto, kernel=poly;, score=0.815 total time=   0.2s\n",
      "[CV 2/5] END .....C=10, gamma=auto, kernel=poly;, score=0.935 total time=   0.1s\n",
      "[CV 3/5] END .....C=10, gamma=auto, kernel=poly;, score=0.806 total time=   0.1s\n",
      "[CV 4/5] END .....C=10, gamma=auto, kernel=poly;, score=0.870 total time=   0.1s\n",
      "[CV 5/5] END .....C=10, gamma=auto, kernel=poly;, score=0.884 total time=   0.1s\n",
      "[CV 1/5] END ..C=10, gamma=auto, kernel=sigmoid;, score=0.880 total time=   0.1s\n",
      "[CV 2/5] END ..C=10, gamma=auto, kernel=sigmoid;, score=0.972 total time=   0.1s\n",
      "[CV 3/5] END ..C=10, gamma=auto, kernel=sigmoid;, score=0.949 total time=   0.1s\n",
      "[CV 4/5] END ..C=10, gamma=auto, kernel=sigmoid;, score=0.930 total time=   0.1s\n",
      "[CV 5/5] END ..C=10, gamma=auto, kernel=sigmoid;, score=0.981 total time=   0.1s\n",
      "[CV 1/5] END ....C=100, gamma=scale, kernel=rbf;, score=0.940 total time=   0.1s\n",
      "[CV 2/5] END ....C=100, gamma=scale, kernel=rbf;, score=0.972 total time=   0.1s\n",
      "[CV 3/5] END ....C=100, gamma=scale, kernel=rbf;, score=0.968 total time=   0.1s\n",
      "[CV 4/5] END ....C=100, gamma=scale, kernel=rbf;, score=0.967 total time=   0.1s\n",
      "[CV 5/5] END ....C=100, gamma=scale, kernel=rbf;, score=0.986 total time=   0.1s\n",
      "[CV 1/5] END .C=100, gamma=scale, kernel=linear;, score=0.917 total time=   0.0s\n",
      "[CV 2/5] END .C=100, gamma=scale, kernel=linear;, score=0.963 total time=   0.1s\n",
      "[CV 3/5] END .C=100, gamma=scale, kernel=linear;, score=0.954 total time=   0.1s\n",
      "[CV 4/5] END .C=100, gamma=scale, kernel=linear;, score=0.953 total time=   0.1s\n",
      "[CV 5/5] END .C=100, gamma=scale, kernel=linear;, score=0.972 total time=   0.0s\n",
      "[CV 1/5] END ...C=100, gamma=scale, kernel=poly;, score=0.935 total time=   0.1s\n",
      "[CV 2/5] END ...C=100, gamma=scale, kernel=poly;, score=0.972 total time=   0.1s\n",
      "[CV 3/5] END ...C=100, gamma=scale, kernel=poly;, score=0.958 total time=   0.1s\n",
      "[CV 4/5] END ...C=100, gamma=scale, kernel=poly;, score=0.958 total time=   0.0s\n",
      "[CV 5/5] END ...C=100, gamma=scale, kernel=poly;, score=0.991 total time=   0.0s\n",
      "[CV 1/5] END C=100, gamma=scale, kernel=sigmoid;, score=0.616 total time=   0.1s\n",
      "[CV 2/5] END C=100, gamma=scale, kernel=sigmoid;, score=0.722 total time=   0.1s\n",
      "[CV 3/5] END C=100, gamma=scale, kernel=sigmoid;, score=0.630 total time=   0.1s\n",
      "[CV 4/5] END C=100, gamma=scale, kernel=sigmoid;, score=0.698 total time=   0.1s\n",
      "[CV 5/5] END C=100, gamma=scale, kernel=sigmoid;, score=0.786 total time=   0.1s\n",
      "[CV 1/5] END .....C=100, gamma=auto, kernel=rbf;, score=0.926 total time=   0.1s\n",
      "[CV 2/5] END .....C=100, gamma=auto, kernel=rbf;, score=0.972 total time=   0.1s\n",
      "[CV 3/5] END .....C=100, gamma=auto, kernel=rbf;, score=0.954 total time=   0.1s\n",
      "[CV 4/5] END .....C=100, gamma=auto, kernel=rbf;, score=0.953 total time=   0.1s\n",
      "[CV 5/5] END .....C=100, gamma=auto, kernel=rbf;, score=0.977 total time=   0.1s\n",
      "[CV 1/5] END ..C=100, gamma=auto, kernel=linear;, score=0.917 total time=   0.1s\n",
      "[CV 2/5] END ..C=100, gamma=auto, kernel=linear;, score=0.963 total time=   0.1s\n",
      "[CV 3/5] END ..C=100, gamma=auto, kernel=linear;, score=0.954 total time=   0.1s\n",
      "[CV 4/5] END ..C=100, gamma=auto, kernel=linear;, score=0.953 total time=   0.1s\n",
      "[CV 5/5] END ..C=100, gamma=auto, kernel=linear;, score=0.972 total time=   0.1s\n",
      "[CV 1/5] END ....C=100, gamma=auto, kernel=poly;, score=0.894 total time=   0.1s\n",
      "[CV 2/5] END ....C=100, gamma=auto, kernel=poly;, score=0.972 total time=   0.1s\n",
      "[CV 3/5] END ....C=100, gamma=auto, kernel=poly;, score=0.940 total time=   0.2s\n",
      "[CV 4/5] END ....C=100, gamma=auto, kernel=poly;, score=0.944 total time=   0.2s\n",
      "[CV 5/5] END ....C=100, gamma=auto, kernel=poly;, score=0.986 total time=   0.2s\n",
      "[CV 1/5] END .C=100, gamma=auto, kernel=sigmoid;, score=0.912 total time=   0.1s\n",
      "[CV 2/5] END .C=100, gamma=auto, kernel=sigmoid;, score=0.968 total time=   0.1s\n",
      "[CV 3/5] END .C=100, gamma=auto, kernel=sigmoid;, score=0.954 total time=   0.1s\n",
      "[CV 4/5] END .C=100, gamma=auto, kernel=sigmoid;, score=0.953 total time=   0.1s\n",
      "[CV 5/5] END .C=100, gamma=auto, kernel=sigmoid;, score=0.981 total time=   0.1s\n",
      "Best Parameters: {'C': 10, 'gamma': 'scale', 'kernel': 'rbf'}\n",
      "SVC Classification Report with Hyperparameter Tuning:\n",
      "              precision    recall  f1-score   support\n",
      "\n",
      "           0       1.00      0.97      0.99        71\n",
      "           1       0.97      0.95      0.96        73\n",
      "           2       1.00      0.97      0.99        71\n",
      "           3       0.94      0.86      0.90        74\n",
      "           4       0.99      0.96      0.97        74\n",
      "           5       0.92      0.99      0.95        71\n",
      "           6       0.97      0.99      0.98        74\n",
      "           7       0.95      0.99      0.97        72\n",
      "           8       0.90      0.96      0.93        68\n",
      "           9       0.94      0.96      0.95        71\n",
      "\n",
      "    accuracy                           0.96       719\n",
      "   macro avg       0.96      0.96      0.96       719\n",
      "weighted avg       0.96      0.96      0.96       719\n",
      "\n"
     ]
    }
   ],
   "source": [
    "# from sklearn.model_selection import GridSearchCV\n",
    "# from sklearn.svm import SVC\n",
    "# from sklearn import metrics\n",
    "\n",
    "# # Define the parameter grid to search\n",
    "# param_grid = {\n",
    "#     'C': [0.1, 1, 10, 100],  # Regularization parameter\n",
    "#     'gamma': ['scale', 'auto'],  # Kernel coefficient\n",
    "#     'kernel': ['rbf', 'linear', 'poly', 'sigmoid']  # Type of kernel\n",
    "# }\n",
    "\n",
    "# # Create a GridSearchCV object\n",
    "# grid_search = GridSearchCV(SVC(), param_grid, refit=True, verbose=3, cv=5)\n",
    "\n",
    "# # Fit the model on the training data\n",
    "# grid_search.fit(X_train, y_train)\n",
    "\n",
    "# # Print out the best parameters\n",
    "# print(\"Best Parameters:\", grid_search.best_params_)\n",
    "\n",
    "# # Make predictions with the best estimator\n",
    "# best_svc = grid_search.best_estimator_\n",
    "# svc_predicted = best_svc.predict(X_test)\n",
    "\n",
    "# # Generate the classification report\n",
    "# svc_report = metrics.classification_report(y_test, svc_predicted)\n",
    "# print(\"SVC Classification Report with Hyperparameter Tuning:\")\n",
    "# print(svc_report)\n"
   ]
  },
  {
   "cell_type": "code",
   "execution_count": 29,
   "metadata": {
    "id": "FVpiej3-9h_n"
   },
   "outputs": [],
   "source": [
    "# sys.setrecursionlimit(2147483647)\n",
    "# code = m2c.export_to_python(best_svc)\n",
    "# with open('best_svc.py', 'w') as f:\n",
    "#     f.write(code)"
   ]
  },
  {
   "cell_type": "code",
   "execution_count": 31,
   "metadata": {
    "colab": {
     "base_uri": "https://localhost:8080/"
    },
    "id": "IX3XA3BB-BS0",
    "outputId": "e0cb2e48-722f-4812-e634-e13dd4f00758"
   },
   "outputs": [
    {
     "name": "stdout",
     "output_type": "stream",
     "text": [
      "-rw-r--r-- 1 root root 43K Dec  2 05:17 svm_min.py\n"
     ]
    }
   ],
   "source": [
    "# !python-minimizer best_svc.py -o best_svc_min.py\n",
    "# !ls -alh svm_min.py"
   ]
  },
  {
   "cell_type": "code",
   "execution_count": 37,
   "metadata": {
    "colab": {
     "base_uri": "https://localhost:8080/"
    },
    "id": "jspiB5c4-H3t",
    "outputId": "d2569950-bf22-4eee-ae0c-dc3d4c3a0c08"
   },
   "outputs": [
    {
     "name": "stdout",
     "output_type": "stream",
     "text": [
      "ExtraTreesClassifier Classification Report:\n",
      "              precision    recall  f1-score   support\n",
      "\n",
      "           0       0.99      0.99      0.99        71\n",
      "           1       0.95      0.85      0.90        73\n",
      "           2       1.00      0.93      0.96        71\n",
      "           3       0.91      0.82      0.87        74\n",
      "           4       0.97      0.95      0.96        74\n",
      "           5       0.89      0.96      0.93        71\n",
      "           6       0.97      1.00      0.99        74\n",
      "           7       0.95      0.99      0.97        72\n",
      "           8       0.90      0.93      0.91        68\n",
      "           9       0.84      0.96      0.89        71\n",
      "\n",
      "    accuracy                           0.94       719\n",
      "   macro avg       0.94      0.94      0.94       719\n",
      "weighted avg       0.94      0.94      0.94       719\n",
      "\n"
     ]
    }
   ],
   "source": [
    "# from sklearn.ensemble import ExtraTreesClassifier\n",
    "\n",
    "# # Initialize the ExtraTreesClassifier model\n",
    "# extra_trees_model = ExtraTreesClassifier()\n",
    "\n",
    "# # Train the ExtraTreesClassifier model\n",
    "# extra_trees_model.fit(X_train, y_train)\n",
    "\n",
    "# # Make predictions with the ExtraTreesClassifier model\n",
    "# extra_trees_predicted = extra_trees_model.predict(X_test)\n",
    "\n",
    "# # Generate the classification report for the ExtraTreesClassifier model\n",
    "# extra_trees_report = metrics.classification_report(y_test, extra_trees_predicted)\n",
    "\n",
    "# print(\"ExtraTreesClassifier Classification Report:\")\n",
    "# print(extra_trees_report)\n"
   ]
  },
  {
   "cell_type": "code",
   "execution_count": 38,
   "metadata": {
    "colab": {
     "base_uri": "https://localhost:8080/"
    },
    "id": "nNdzsMHc-TLz",
    "outputId": "ffe8c4a5-18ad-4c43-f5bd-851b60d7024e"
   },
   "outputs": [
    {
     "name": "stdout",
     "output_type": "stream",
     "text": [
      "-rw-r--r-- 1 root root 43K Dec  2 05:17 svm_min.py\n"
     ]
    }
   ],
   "source": [
    "# sys.setrecursionlimit(2147483647)\n",
    "# code = m2c.export_to_python(extra_trees_model)\n",
    "# with open('extra_trees_model.py', 'w') as f:\n",
    "#     f.write(code)\n",
    "\n",
    "# !python-minimizer extra_trees_model.py -o extra_trees_model_min.py\n",
    "# !ls -alh svm_min.py"
   ]
  }
 ],
 "metadata": {
  "colab": {
   "provenance": []
  },
  "kernelspec": {
   "display_name": "Python 3",
   "name": "python3"
  },
  "language_info": {
   "name": "python"
  }
 },
 "nbformat": 4,
 "nbformat_minor": 0
}
